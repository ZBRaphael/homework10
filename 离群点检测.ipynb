{
 "cells": [
  {
   "cell_type": "markdown",
   "metadata": {},
   "source": [
    "# 离群点检测"
   ]
  },
  {
   "cell_type": "code",
   "execution_count": 1,
   "metadata": {},
   "outputs": [],
   "source": [
    "# -*- coding: utf-8 -*-\n",
    "\"\"\"Example of using kNN for outlier detection\n",
    "\"\"\"\n",
    "\n",
    "from __future__ import division\n",
    "from __future__ import print_function\n",
    "\n",
    "\n",
    "import os\n",
    "import sys\n",
    "import pandas as pd\n",
    "\n",
    "# temporary solution for relative imports in case pyod is not installed\n",
    "# if pyod is installed, no need to use the following line\n",
    "sys.path.append(\n",
    "    os.path.abspath(os.path.join(os.path.dirname(\"__file__\"), '..')))\n",
    "\n",
    "from pyod.models.knn import KNN\n",
    "from pyod.utils.data import generate_data\n",
    "from pyod.utils.data import evaluate_print\n",
    "from pyod.utils.example import visualize\n",
    "from sklearn.model_selection import train_test_split"
   ]
  },
  {
   "cell_type": "markdown",
   "metadata": {},
   "source": [
    "### 对于单个csv处理的过程\n",
    "\n",
    "将数据集剔除三个无用的属性，'point.id', 'motherset', 'origin'"
   ]
  },
  {
   "cell_type": "code",
   "execution_count": 2,
   "metadata": {},
   "outputs": [],
   "source": [
    "df = pd.read_csv(\"./wine/benchmarks/wine_benchmark_0001.csv\")\n",
    "columns = df.columns\n",
    "df = df[columns].fillna('nan')"
   ]
  },
  {
   "cell_type": "code",
   "execution_count": 3,
   "metadata": {},
   "outputs": [
    {
     "data": {
      "text/plain": [
       "Index(['point.id', 'motherset', 'origin', 'original.label', 'diff.score',\n",
       "       'ground.truth', 'fixed.acidity', 'volatile.acidity', 'citric.acid',\n",
       "       'residual.sugar', 'chlorides', 'free.sulfur.dioxide',\n",
       "       'total.sulfur.dioxide', 'density', 'pH', 'sulphates', 'alcohol'],\n",
       "      dtype='object')"
      ]
     },
     "execution_count": 3,
     "metadata": {},
     "output_type": "execute_result"
    }
   ],
   "source": [
    "columns"
   ]
  },
  {
   "cell_type": "code",
   "execution_count": 4,
   "metadata": {},
   "outputs": [],
   "source": [
    "data = df.drop(columns = ['point.id', 'motherset', 'origin'])"
   ]
  },
  {
   "cell_type": "code",
   "execution_count": 5,
   "metadata": {},
   "outputs": [],
   "source": [
    "class_mapping = {\"anomaly\":1, \"nominal\":0}"
   ]
  },
  {
   "cell_type": "code",
   "execution_count": 6,
   "metadata": {},
   "outputs": [],
   "source": [
    "data['ground.truth'] = data['ground.truth'].map(class_mapping)"
   ]
  },
  {
   "cell_type": "markdown",
   "metadata": {},
   "source": [
    "将数据集中除了ground.truth的属性当作X，ground.truth属性当作y"
   ]
  },
  {
   "cell_type": "code",
   "execution_count": 7,
   "metadata": {},
   "outputs": [
    {
     "data": {
      "text/html": [
       "<div>\n",
       "<style scoped>\n",
       "    .dataframe tbody tr th:only-of-type {\n",
       "        vertical-align: middle;\n",
       "    }\n",
       "\n",
       "    .dataframe tbody tr th {\n",
       "        vertical-align: top;\n",
       "    }\n",
       "\n",
       "    .dataframe thead th {\n",
       "        text-align: right;\n",
       "    }\n",
       "</style>\n",
       "<table border=\"1\" class=\"dataframe\">\n",
       "  <thead>\n",
       "    <tr style=\"text-align: right;\">\n",
       "      <th></th>\n",
       "      <th>original.label</th>\n",
       "      <th>diff.score</th>\n",
       "      <th>ground.truth</th>\n",
       "      <th>fixed.acidity</th>\n",
       "      <th>volatile.acidity</th>\n",
       "      <th>citric.acid</th>\n",
       "      <th>residual.sugar</th>\n",
       "      <th>chlorides</th>\n",
       "      <th>free.sulfur.dioxide</th>\n",
       "      <th>total.sulfur.dioxide</th>\n",
       "      <th>density</th>\n",
       "      <th>pH</th>\n",
       "      <th>sulphates</th>\n",
       "      <th>alcohol</th>\n",
       "    </tr>\n",
       "  </thead>\n",
       "  <tbody>\n",
       "    <tr>\n",
       "      <td>0</td>\n",
       "      <td>7</td>\n",
       "      <td>0.050492</td>\n",
       "      <td>0</td>\n",
       "      <td>-1.245962</td>\n",
       "      <td>-0.362411</td>\n",
       "      <td>-0.265853</td>\n",
       "      <td>-0.261304</td>\n",
       "      <td>-0.343495</td>\n",
       "      <td>1.209882</td>\n",
       "      <td>0.747594</td>\n",
       "      <td>-0.899276</td>\n",
       "      <td>0.817846</td>\n",
       "      <td>-0.613338</td>\n",
       "      <td>0.174560</td>\n",
       "    </tr>\n",
       "    <tr>\n",
       "      <td>1</td>\n",
       "      <td>5</td>\n",
       "      <td>0.082237</td>\n",
       "      <td>1</td>\n",
       "      <td>0.759540</td>\n",
       "      <td>0.973867</td>\n",
       "      <td>0.215849</td>\n",
       "      <td>-0.534540</td>\n",
       "      <td>0.598458</td>\n",
       "      <td>-0.536656</td>\n",
       "      <td>0.199134</td>\n",
       "      <td>0.968217</td>\n",
       "      <td>0.071518</td>\n",
       "      <td>0.596292</td>\n",
       "      <td>-0.915394</td>\n",
       "    </tr>\n",
       "    <tr>\n",
       "      <td>2</td>\n",
       "      <td>6</td>\n",
       "      <td>0.290201</td>\n",
       "      <td>0</td>\n",
       "      <td>-0.088942</td>\n",
       "      <td>-0.969809</td>\n",
       "      <td>-0.403482</td>\n",
       "      <td>-0.870829</td>\n",
       "      <td>-0.429127</td>\n",
       "      <td>-0.592996</td>\n",
       "      <td>-0.791633</td>\n",
       "      <td>-0.699187</td>\n",
       "      <td>-1.110168</td>\n",
       "      <td>1.402712</td>\n",
       "      <td>-0.496181</td>\n",
       "    </tr>\n",
       "    <tr>\n",
       "      <td>3</td>\n",
       "      <td>5</td>\n",
       "      <td>0.053559</td>\n",
       "      <td>1</td>\n",
       "      <td>0.219597</td>\n",
       "      <td>0.973867</td>\n",
       "      <td>0.284664</td>\n",
       "      <td>0.138039</td>\n",
       "      <td>0.427194</td>\n",
       "      <td>-0.762016</td>\n",
       "      <td>-0.243173</td>\n",
       "      <td>1.034913</td>\n",
       "      <td>0.817846</td>\n",
       "      <td>1.805921</td>\n",
       "      <td>0.006874</td>\n",
       "    </tr>\n",
       "    <tr>\n",
       "      <td>4</td>\n",
       "      <td>7</td>\n",
       "      <td>0.420300</td>\n",
       "      <td>0</td>\n",
       "      <td>0.219597</td>\n",
       "      <td>-0.180191</td>\n",
       "      <td>-0.541112</td>\n",
       "      <td>0.348220</td>\n",
       "      <td>-0.714567</td>\n",
       "      <td>-0.142276</td>\n",
       "      <td>0.446826</td>\n",
       "      <td>-0.242318</td>\n",
       "      <td>-0.363840</td>\n",
       "      <td>-1.016548</td>\n",
       "      <td>0.090717</td>\n",
       "    </tr>\n",
       "  </tbody>\n",
       "</table>\n",
       "</div>"
      ],
      "text/plain": [
       "   original.label  diff.score  ground.truth  fixed.acidity  volatile.acidity  \\\n",
       "0               7    0.050492             0      -1.245962         -0.362411   \n",
       "1               5    0.082237             1       0.759540          0.973867   \n",
       "2               6    0.290201             0      -0.088942         -0.969809   \n",
       "3               5    0.053559             1       0.219597          0.973867   \n",
       "4               7    0.420300             0       0.219597         -0.180191   \n",
       "\n",
       "   citric.acid  residual.sugar  chlorides  free.sulfur.dioxide  \\\n",
       "0    -0.265853       -0.261304  -0.343495             1.209882   \n",
       "1     0.215849       -0.534540   0.598458            -0.536656   \n",
       "2    -0.403482       -0.870829  -0.429127            -0.592996   \n",
       "3     0.284664        0.138039   0.427194            -0.762016   \n",
       "4    -0.541112        0.348220  -0.714567            -0.142276   \n",
       "\n",
       "   total.sulfur.dioxide   density        pH  sulphates   alcohol  \n",
       "0              0.747594 -0.899276  0.817846  -0.613338  0.174560  \n",
       "1              0.199134  0.968217  0.071518   0.596292 -0.915394  \n",
       "2             -0.791633 -0.699187 -1.110168   1.402712 -0.496181  \n",
       "3             -0.243173  1.034913  0.817846   1.805921  0.006874  \n",
       "4              0.446826 -0.242318 -0.363840  -1.016548  0.090717  "
      ]
     },
     "execution_count": 7,
     "metadata": {},
     "output_type": "execute_result"
    }
   ],
   "source": [
    "data.head()"
   ]
  },
  {
   "cell_type": "code",
   "execution_count": 8,
   "metadata": {},
   "outputs": [],
   "source": [
    "class_mapping = {\"anomaly\":1, \"nominal\":0}"
   ]
  },
  {
   "cell_type": "code",
   "execution_count": 9,
   "metadata": {},
   "outputs": [],
   "source": [
    "y = data['ground.truth']"
   ]
  },
  {
   "cell_type": "code",
   "execution_count": 10,
   "metadata": {},
   "outputs": [],
   "source": [
    "x = data.drop('ground.truth',axis=1)"
   ]
  },
  {
   "cell_type": "markdown",
   "metadata": {},
   "source": [
    "数据集中使用8:2划分训练和测试集"
   ]
  },
  {
   "cell_type": "code",
   "execution_count": 11,
   "metadata": {},
   "outputs": [],
   "source": [
    "X_train, X_test, y_train, y_test = train_test_split(\n",
    "        x, y, test_size=0.2, random_state=28)"
   ]
  },
  {
   "cell_type": "markdown",
   "metadata": {},
   "source": [
    "使用Knn算法对数据离群点进行判断"
   ]
  },
  {
   "cell_type": "code",
   "execution_count": 12,
   "metadata": {},
   "outputs": [
    {
     "name": "stdout",
     "output_type": "stream",
     "text": [
      "\n",
      "On Training Data:\n",
      "KNN ROC:0.5724, precision @ rank n:0.4167\n",
      "\n",
      "On Test Data:\n",
      "KNN ROC:0.5669, precision @ rank n:0.4391\n"
     ]
    }
   ],
   "source": [
    "clf_name = 'KNN'\n",
    "clf = KNN()\n",
    "clf.fit(X_train)\n",
    "\n",
    "# get the prediction labels and outlier scores of the training data\n",
    "y_train_pred = clf.labels_  # binary labels (0: inliers, 1: outliers)\n",
    "y_train_scores = clf.decision_scores_  # raw outlier scores\n",
    "\n",
    "# get the prediction on the test data\n",
    "y_test_pred = clf.predict(X_test)  # outlier labels (0 or 1)\n",
    "y_test_scores = clf.decision_function(X_test)  # outlier scores\n",
    "\n",
    "# evaluate and print the results\n",
    "print(\"\\nOn Training Data:\")\n",
    "evaluate_print(clf_name, y_train, y_train_scores)\n",
    "print(\"\\nOn Test Data:\")\n",
    "evaluate_print(clf_name, y_test, y_test_scores)\n"
   ]
  },
  {
   "cell_type": "markdown",
   "metadata": {},
   "source": [
    "### 使用多个算法对数据集进行处理\n",
    "\n",
    "- ABOD \n",
    "- CBLOF \n",
    "- LOF  \n",
    "- HOBS  \n",
    "- IForest \n",
    "- KNN  \n",
    "- AKNN "
   ]
  },
  {
   "cell_type": "markdown",
   "metadata": {},
   "source": [
    "异常检测问题往往是没有标签的，训练数据中并未标出哪些是异常点，因此必须使用无监督学习,在进行检测时使用标签进行对比"
   ]
  },
  {
   "cell_type": "code",
   "execution_count": 16,
   "metadata": {},
   "outputs": [
    {
     "name": "stdout",
     "output_type": "stream",
     "text": [
      "\n",
      "On Training Data:\n",
      "Cluster-based Local Outlier Factor (CBLOF) ROC:0.611, precision @ rank n:0.4666\n",
      "\n",
      "On Test Data:\n",
      "Cluster-based Local Outlier Factor (CBLOF) ROC:0.612, precision @ rank n:0.4649\n",
      "\n",
      "On Training Data:\n",
      "Feature Bagging ROC:0.563, precision @ rank n:0.4186\n",
      "\n",
      "On Test Data:\n",
      "Feature Bagging ROC:0.5625, precision @ rank n:0.4354\n",
      "\n",
      "On Training Data:\n",
      "Histogram-base Outlier Detection (HBOS) ROC:0.426, precision @ rank n:0.3123\n",
      "\n",
      "On Test Data:\n",
      "Histogram-base Outlier Detection (HBOS) ROC:0.4008, precision @ rank n:0.2952\n"
     ]
    },
    {
     "name": "stderr",
     "output_type": "stream",
     "text": [
      "/usr/local/lib/python3.7/site-packages/sklearn/ensemble/iforest.py:247: FutureWarning: behaviour=\"old\" is deprecated and will be removed in version 0.22. Please use behaviour=\"new\", which makes the decision_function change to match other anomaly detection algorithm API.\n",
      "  FutureWarning)\n"
     ]
    },
    {
     "name": "stdout",
     "output_type": "stream",
     "text": [
      "\n",
      "On Training Data:\n",
      "Isolation Forest ROC:0.6409, precision @ rank n:0.4685\n",
      "\n",
      "On Test Data:\n",
      "Isolation Forest ROC:0.6328, precision @ rank n:0.476\n",
      "\n",
      "On Training Data:\n",
      "K Nearest Neighbors (KNN) ROC:0.5724, precision @ rank n:0.4167\n",
      "\n",
      "On Test Data:\n",
      "K Nearest Neighbors (KNN) ROC:0.5669, precision @ rank n:0.4391\n",
      "\n",
      "On Training Data:\n",
      "Average KNN ROC:0.5649, precision @ rank n:0.4205\n",
      "\n",
      "On Test Data:\n",
      "Average KNN ROC:0.5358, precision @ rank n:0.417\n"
     ]
    }
   ],
   "source": [
    "import numpy as np\n",
    "random_state = np.random.RandomState(42)\n",
    "outliers_fraction = 0.05\n",
    "from pyod.models.abod import ABOD\n",
    "from pyod.models.cblof import CBLOF\n",
    "from pyod.models.feature_bagging import FeatureBagging\n",
    "from pyod.models.hbos import HBOS\n",
    "from pyod.models.iforest import IForest\n",
    "from pyod.models.knn import KNN\n",
    "from pyod.models.lof import LOF\n",
    "outliers_fraction = 0.05\n",
    "# Define seven outlier detection tools to be compared\n",
    "classifiers = {\n",
    "#         'Angle-based Outlier Detector (ABOD)': ABOD(contamination=outliers_fraction),\n",
    "        'Cluster-based Local Outlier Factor (CBLOF)':CBLOF(contamination=outliers_fraction,check_estimator=False, random_state=random_state),\n",
    "        'Feature Bagging':FeatureBagging(LOF(n_neighbors=35),contamination=outliers_fraction,check_estimator=False,random_state=random_state),\n",
    "        'Histogram-base Outlier Detection (HBOS)': HBOS(contamination=outliers_fraction),\n",
    "        'Isolation Forest': IForest(contamination=outliers_fraction,random_state=random_state),\n",
    "        'K Nearest Neighbors (KNN)': KNN(contamination=outliers_fraction),\n",
    "        'Average KNN': KNN(method='mean',contamination=outliers_fraction)\n",
    "}\n",
    "for i, (clf_name, clf) in enumerate(classifiers.items()):\n",
    "    clf.fit(X_train)\n",
    "\n",
    "    # get the prediction labels and outlier scores of the training data\n",
    "    y_train_pred = clf.labels_  # binary labels (0: inliers, 1: outliers)\n",
    "    y_train_scores = clf.decision_scores_  # raw outlier scores\n",
    "\n",
    "    # get the prediction on the test data\n",
    "    y_test_pred = clf.predict(X_test)  # outlier labels (0 or 1)\n",
    "    y_test_scores = clf.decision_function(X_test)  # outlier scores\n",
    "\n",
    "    # evaluate and print the results\n",
    "    print(\"\\nOn Training Data:\")\n",
    "    evaluate_print(clf_name, y_train, y_train_scores)\n",
    "    print(\"\\nOn Test Data:\")\n",
    "    evaluate_print(clf_name, y_test, y_test_scores)\n"
   ]
  },
  {
   "cell_type": "markdown",
   "metadata": {},
   "source": [
    "### 对数据集中csv进行遍历并使用多个算法进行检测\n",
    "\n",
    "在本地进行执行，所以只在后面统计结果"
   ]
  },
  {
   "cell_type": "code",
   "execution_count": null,
   "metadata": {},
   "outputs": [],
   "source": [
    "# -*- coding: utf-8 -*-\n",
    "\"\"\"Example of using kNN for outlier detection\n",
    "\"\"\"\n",
    "\n",
    "from __future__ import division, print_function\n",
    "\n",
    "import json\n",
    "import os\n",
    "import sys\n",
    "\n",
    "import numpy as np\n",
    "import pandas as pd\n",
    "from pyod.models.abod import ABOD\n",
    "from pyod.models.cblof import CBLOF\n",
    "from pyod.models.feature_bagging import FeatureBagging\n",
    "from pyod.models.hbos import HBOS\n",
    "from pyod.models.iforest import IForest\n",
    "from pyod.models.knn import KNN\n",
    "from pyod.models.lof import LOF\n",
    "from pyod.utils.data import evaluate_print, generate_data\n",
    "from pyod.utils.example import visualize\n",
    "from sklearn.model_selection import train_test_split\n",
    "from sklearn.metrics import roc_auc_score\n",
    "from pyod.utils import precision_n_scores\n",
    "\n",
    "# temporary solution for relative imports in case pyod is not installed\n",
    "# if pyod is installed, no need to use the following line\n",
    "sys.path.append(\n",
    "    os.path.abspath(os.path.join(os.path.dirname(\"__file__\"), '..')))\n",
    "\n",
    "file_list = []\n",
    "total_roc = []\n",
    "total_prn = []\n",
    "count = 0\n",
    "for home, dirs, files in os.walk(\"./skin/benchmarks\"):\n",
    "    for filename in files:\n",
    "        fullname = os.path.join(home, filename)\n",
    "        file_list.append(fullname)\n",
    "for file_csv in file_list:\n",
    "    \n",
    "    df = pd.read_csv(file_csv)\n",
    "    columns = df.columns\n",
    "    # df = df[columns].fillna('nan')\n",
    "\n",
    "    data = df.drop(columns = ['point.id', 'motherset', 'origin'])\n",
    "\n",
    "    class_mapping = {\"anomaly\":1, \"nominal\":0}\n",
    "    data['ground.truth'] = data['ground.truth'].map(class_mapping)\n",
    "    class_mapping = {\"anomaly\":1, \"nominal\":0}\n",
    "\n",
    "    y = data['ground.truth']\n",
    "\n",
    "    x = data.drop('ground.truth',axis=1)\n",
    "\n",
    "    X_train, X_test, y_train, y_test = train_test_split(\n",
    "            x, y, test_size=0.2, random_state=28)\n",
    "\n",
    "    random_state = np.random.RandomState(42)\n",
    "    outliers_fraction = 0.05\n",
    "    # Define seven outlier detection tools to be compared\n",
    "    classifiers = {\n",
    "            'Angle-based Outlier Detector (ABOD)': ABOD(contamination=outliers_fraction),\n",
    "            'Cluster-based Local Outlier Factor (CBLOF)':CBLOF(contamination=outliers_fraction,check_estimator=False, random_state=random_state),\n",
    "            'Feature Bagging':FeatureBagging(LOF(n_neighbors=35),contamination=outliers_fraction,check_estimator=False,random_state=random_state),\n",
    "            'Histogram-base Outlier Detection (HBOS)': HBOS(contamination=outliers_fraction),\n",
    "            'Isolation Forest': IForest(contamination=outliers_fraction,random_state=random_state),\n",
    "            'K Nearest Neighbors (KNN)': KNN(contamination=outliers_fraction),\n",
    "            'Average KNN': KNN(method='mean',contamination=outliers_fraction)\n",
    "    }\n",
    "    p_prn = []\n",
    "    p_roc = []\n",
    "    for i, (clf_name, clf) in enumerate(classifiers.items()):\n",
    "        try:\n",
    "            clf.fit(X_train)\n",
    "\n",
    "            # get the prediction labels and outlier scores of the training data\n",
    "            y_train_pred = clf.labels_  # binary labels (0: inliers, 1: outliers)\n",
    "            y_train_scores = clf.decision_scores_  # raw outlier scores\n",
    "\n",
    "            # get the prediction on the test data\n",
    "            y_test_pred = clf.predict(X_test)  # outlier labels (0 or 1)\n",
    "            y_test_scores = clf.decision_function(X_test)  # outlier scores\n",
    "\n",
    "            # evaluate and print the results\n",
    "            print(str(count)+\"is analysing\")\n",
    "            print(\"\\nOn Training Data:\")\n",
    "       \n",
    "            evaluate_print(clf_name, y_train, y_train_scores)\n",
    "            print(\"\\nOn Test Data:\")\n",
    "            evaluate_print(clf_name, y_test, y_test_scores)\n",
    "            roc=np.round(roc_auc_score(y_train, y_train_scores), decimals=4),\n",
    "            prn=np.round(precision_n_scores(y_test, y_test_scores), decimals=4)\n",
    "            p_prn.append(prn)\n",
    "            p_roc.append(roc)\n",
    "        except:\n",
    "            p_prn.append(-1)\n",
    "            p_roc.append(-1)\n",
    "\n",
    "    total_prn.append(p_prn)\n",
    "    total_roc.append(p_roc)    \n",
    "    count += 1\n",
    "        \n",
    "total_prn = json.dumps(total_prn)\n",
    "total_roc = json.dumps(total_roc)\n",
    "a = open(\"skin_prc_list.txt\", \"w\",encoding='UTF-8')\n",
    "a.write(total_prn)\n",
    "a.close()\n",
    "a = open(\"skin_roc_list.txt\", \"w\",encoding='UTF-8')\n",
    "a.write(total_roc)\n",
    "a.close()"
   ]
  },
  {
   "cell_type": "code",
   "execution_count": 126,
   "metadata": {},
   "outputs": [],
   "source": [
    "import json\n",
    "b = open(\"./wine_roc_list.txt\", \"r\",encoding='UTF-8')\n",
    "out = b.read()\n",
    "out =  json.loads(out)"
   ]
  },
  {
   "cell_type": "code",
   "execution_count": 131,
   "metadata": {},
   "outputs": [
    {
     "data": {
      "text/plain": [
       "1210"
      ]
     },
     "execution_count": 131,
     "metadata": {},
     "output_type": "execute_result"
    }
   ],
   "source": [
    "len(out)"
   ]
  },
  {
   "cell_type": "markdown",
   "metadata": {},
   "source": [
    "### 显示示例结果"
   ]
  },
  {
   "cell_type": "code",
   "execution_count": 128,
   "metadata": {},
   "outputs": [
    {
     "data": {
      "text/plain": [
       "[[-1, 0.7024, 0.8416, 0.6902, 0.8085, 0.8245, 0.8677],\n",
       " [0.6469, 0.6547, 0.6504, 0.6672, 0.7198, 0.6547, 0.6664],\n",
       " [0.8098, 0.7399, 0.7717, 0.8707, 0.8017, 0.7943, 0.8181]]"
      ]
     },
     "execution_count": 128,
     "metadata": {},
     "output_type": "execute_result"
    }
   ],
   "source": [
    "out[0:3]"
   ]
  },
  {
   "cell_type": "markdown",
   "metadata": {},
   "source": [
    "### 计算wine数据集平均ROC和PRN值\n",
    "\n",
    "其中-1表示该算法在数据集上运行时出错，在计算平均值时剔除"
   ]
  },
  {
   "cell_type": "code",
   "execution_count": 129,
   "metadata": {},
   "outputs": [],
   "source": [
    "total_roc = []\n",
    "for ip in range(0,7): \n",
    "    total = 0\n",
    "    count = 0\n",
    "    for r in out:\n",
    "        if r[ip] != -1:\n",
    "            total += r[ip]\n",
    "            count += 1\n",
    "    total_roc.append(total/count)"
   ]
  },
  {
   "cell_type": "code",
   "execution_count": 130,
   "metadata": {},
   "outputs": [
    {
     "data": {
      "text/plain": [
       "[0.6210063073394493,\n",
       " 0.6189723801065717,\n",
       " 0.6460626998223798,\n",
       " 0.5912920959147424,\n",
       " 0.687247513321493,\n",
       " 0.6485466252220252,\n",
       " 0.6578079040852582]"
      ]
     },
     "execution_count": 130,
     "metadata": {},
     "output_type": "execute_result"
    }
   ],
   "source": [
    "total_roc"
   ]
  },
  {
   "cell_type": "markdown",
   "metadata": {},
   "source": [
    "ABOD = 0.6210063073394493,\n",
    "CBLOF = 0.6189723801065717,\n",
    "LOF = 0.6460626998223798,\n",
    "HOBS = 0.5912920959147424,\n",
    "IForest = 0.687247513321493,\n",
    "KNN = 0.6485466252220252,\n",
    "AKNN = 0.6578079040852582\n",
    "\n"
   ]
  },
  {
   "cell_type": "code",
   "execution_count": 132,
   "metadata": {},
   "outputs": [],
   "source": [
    "import json\n",
    "b = open(\"./wine_prn_list.txt\", \"r\",encoding='UTF-8')\n",
    "out = b.read()\n",
    "out =  json.loads(out)"
   ]
  },
  {
   "cell_type": "code",
   "execution_count": 133,
   "metadata": {},
   "outputs": [],
   "source": [
    "total_prn = []\n",
    "for ip in range(0,7): \n",
    "    total = 0\n",
    "    count = 0\n",
    "    for r in out:\n",
    "        if r[ip] != -1:\n",
    "            total += r[ip]\n",
    "            count += 1\n",
    "    total_prn.append(total/count)"
   ]
  },
  {
   "cell_type": "code",
   "execution_count": 134,
   "metadata": {},
   "outputs": [
    {
     "data": {
      "text/plain": [
       "1210"
      ]
     },
     "execution_count": 134,
     "metadata": {},
     "output_type": "execute_result"
    }
   ],
   "source": [
    "len(out)"
   ]
  },
  {
   "cell_type": "code",
   "execution_count": 135,
   "metadata": {},
   "outputs": [
    {
     "data": {
      "text/plain": [
       "[0.17593841743119282,\n",
       " 0.16324582593250422,\n",
       " 0.17491678507992875,\n",
       " 0.12832815275310824,\n",
       " 0.20096989342806384,\n",
       " 0.17297602131438716,\n",
       " 0.17796243339253962]"
      ]
     },
     "execution_count": 135,
     "metadata": {},
     "output_type": "execute_result"
    }
   ],
   "source": [
    "total_prn"
   ]
  },
  {
   "cell_type": "markdown",
   "metadata": {},
   "source": [
    "ABOD = 0.17593841743119282,\n",
    "CBLOF = 0.16324582593250422,\n",
    "LOF = 0.17491678507992875,\n",
    "HOBS = 0.12832815275310824,\n",
    "IForest = 0.20096989342806384,\n",
    "KNN = 0.17297602131438716,\n",
    "AKNN = 0.17796243339253962\n",
    "\n",
    "通过对比在wine数据集中，使用IForest算法训练和检测的准确率最高"
   ]
  },
  {
   "cell_type": "markdown",
   "metadata": {},
   "source": [
    "### 计算skin数据集平均ROC和PRN值\n",
    "\n",
    "其中-1表示该算法在数据集上运行时出错，在计算平均值时剔除"
   ]
  },
  {
   "cell_type": "code",
   "execution_count": 136,
   "metadata": {},
   "outputs": [],
   "source": [
    "b = open(\"./skin_roc_list.txt\", \"r\",encoding='UTF-8')\n",
    "out = b.read()\n",
    "out =  json.loads(out)"
   ]
  },
  {
   "cell_type": "code",
   "execution_count": 137,
   "metadata": {},
   "outputs": [],
   "source": [
    "total_roc = []\n",
    "for ip in range(0,7): \n",
    "    total = 0\n",
    "    count = 0\n",
    "    for r in out:\n",
    "        if r[ip] != -1:\n",
    "            total += r[ip]\n",
    "            count += 1\n",
    "    total_roc.append(total/count)"
   ]
  },
  {
   "cell_type": "code",
   "execution_count": 138,
   "metadata": {},
   "outputs": [
    {
     "data": {
      "text/plain": [
       "1500"
      ]
     },
     "execution_count": 138,
     "metadata": {},
     "output_type": "execute_result"
    }
   ],
   "source": [
    "len(out)"
   ]
  },
  {
   "cell_type": "code",
   "execution_count": 139,
   "metadata": {},
   "outputs": [
    {
     "data": {
      "text/plain": [
       "[0.7711199421965318,\n",
       " 0.769387327586207,\n",
       " 0.6818256593014956,\n",
       " 0.9047651461154681,\n",
       " 0.9054550962223803,\n",
       " 0.7885023521026375,\n",
       " 0.7864801140413406]"
      ]
     },
     "execution_count": 139,
     "metadata": {},
     "output_type": "execute_result"
    }
   ],
   "source": [
    "total_roc"
   ]
  },
  {
   "cell_type": "code",
   "execution_count": 142,
   "metadata": {},
   "outputs": [],
   "source": [
    "b = open(\"./skin_prn_list.txt\", \"r\",encoding='UTF-8')\n",
    "out = b.read()\n",
    "out =  json.loads(out)\n",
    "total_prn = []\n",
    "for ip in range(0,7): \n",
    "    total = 0\n",
    "    count = 0\n",
    "    for r in out:\n",
    "        if r[ip] != -1:\n",
    "            total += r[ip]\n",
    "            count += 1\n",
    "    total_prn.append(total/count)"
   ]
  },
  {
   "cell_type": "code",
   "execution_count": 143,
   "metadata": {},
   "outputs": [
    {
     "data": {
      "text/plain": [
       "[0.15812774566473972,\n",
       " 0.12662767241379322,\n",
       " 0.11434369208838209,\n",
       " 0.5318011404133992,\n",
       " 0.4934133285816108,\n",
       " 0.1716778332145402,\n",
       " 0.17896500356379177]"
      ]
     },
     "execution_count": 143,
     "metadata": {},
     "output_type": "execute_result"
    }
   ],
   "source": [
    "total_prn"
   ]
  },
  {
   "cell_type": "markdown",
   "metadata": {},
   "source": [
    "通过对比在skin数据集中，使用HOBS算法训练和检测的准确率最高,另外使用IForest算法的准确了也是相当不错"
   ]
  }
 ],
 "metadata": {
  "kernelspec": {
   "display_name": "Python 3.7.4 64-bit",
   "language": "python",
   "name": "python37464bit962df332884a4ced92ceb320f5bad96e"
  },
  "language_info": {
   "codemirror_mode": {
    "name": "ipython",
    "version": 3
   },
   "file_extension": ".py",
   "mimetype": "text/x-python",
   "name": "python",
   "nbconvert_exporter": "python",
   "pygments_lexer": "ipython3",
   "version": "3.7.6"
  }
 },
 "nbformat": 4,
 "nbformat_minor": 2
}
